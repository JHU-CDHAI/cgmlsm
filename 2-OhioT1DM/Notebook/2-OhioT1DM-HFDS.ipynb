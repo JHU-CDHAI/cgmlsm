{
 "cells": [
  {
   "cell_type": "code",
   "execution_count": null,
   "metadata": {},
   "outputs": [
    {
     "name": "stdout",
     "output_type": "stream",
     "text": [
      "/home/jluo41/CGMLSM-Project/\n",
      "code/pipeline\n"
     ]
    }
   ],
   "source": [
    "import sys\n",
    "import os\n",
    "import logging\n",
    "import pandas as pd\n",
    "import datasets\n",
    "from pprint import pprint\n",
    "KEY = '2-OhioT1DM'\n",
    "WORKSPACE_PATH = os.getcwd().split(KEY)[0]\n",
    "print(WORKSPACE_PATH); os.chdir(WORKSPACE_PATH)\n",
    "logger = logging.getLogger(__name__)\n",
    "logging.basicConfig(level=logging.INFO, format='[%(levelname)s:%(asctime)s:(%(filename)s@%(lineno)d %(name)s)]: %(message)s')\n",
    "\n",
    "\n",
    "SPACE = {\n",
    "    'DATA_RAW': f'_Data/0-Data_Raw',\n",
    "    'DATA_RFT': f'_Data/1-Data_RFT',\n",
    "    'DATA_CASE': f'_Data/2-Data_CASE',\n",
    "    'DATA_CFDATA': f'_Data/3-Data_CFDATA',\n",
    "    'DATA_EXTERNAL': f'code/external',\n",
    "    'DATA_HFDATA': f'_Data/5-Data_HFData',\n",
    "    'CODE_FN': f'code/pipeline',\n",
    "    'MODEL_ROOT': f'./_Model',\n",
    "}\n",
    "assert os.path.exists(SPACE['CODE_FN']), f'{SPACE[\"CODE_FN\"]} not found'\n",
    "print(SPACE['CODE_FN'])\n",
    "sys.path.append(SPACE['CODE_FN'])"
   ]
  },
  {
   "cell_type": "code",
   "execution_count": 2,
   "metadata": {},
   "outputs": [
    {
     "name": "stderr",
     "output_type": "stream",
     "text": [
      "[WARNING:2025-07-08 16:04:01,971:(entry.py@137 recfldtkn.aidata_base.entry)]: No EntryInput Method for code/pipeline/fn/fn_aidata/entryinput/None.py\n",
      "[INFO:2025-07-08 16:04:01,983:(entry.py@305 recfldtkn.aidata_base.entry)]: set up TriggerName: CGM5MinEntry\n",
      "[INFO:2025-07-08 16:04:01,983:(entry.py@306 recfldtkn.aidata_base.entry)]: set up CF_Config: ['CohortName_list', 'CohortName_to_OneCohortArgs', 'CaseSettingInfo', 'Record_Proc_Config', 'Case_Proc_Config', 'TriggerCaseBaseName', 'TriggerCaseBaseName_to_CohortNameList', 'TriggerCaseBaseName_to_TriggerCaseBaseArgs', 'SPACE', 'CF_to_CFvocab']\n",
      "[INFO:2025-07-08 16:04:01,984:(entry.py@112 recfldtkn.aidata_base.entry)]: Load Trigger Method for code/pipeline/fn/fn_case/trigger/CGM5MinEntry.py\n"
     ]
    },
    {
     "data": {
      "text/plain": [
       "Dataset({\n",
       "    features: ['PID', 'ObsDT', 'CGMValueBf24h--tid', 'CGMValueAf2h--tid', 'CGMInfoBf24h-ModePercent', 'CGMInfoBf24h-ZeroPercent', 'CGMInfoBf24h-Geq400Percent', 'CGMInfoBf24h-Leq20Percent', 'CGMInfoBf24h-RecNum', 'CGMInfoAf2h-ModePercent', 'CGMInfoAf2h-ZeroPercent', 'CGMInfoAf2h-Geq400Percent', 'CGMInfoAf2h-Leq20Percent', 'CGMInfoAf2h-RecNum', 'CGMInfoAf2to8h-ModePercent', 'CGMInfoAf2to8h-ZeroPercent', 'CGMInfoAf2to8h-Geq400Percent', 'CGMInfoAf2to8h-Leq20Percent', 'CGMInfoAf2to8h-RecNum', 'YearOfBirth', 'Gender', 'MRSegmentID', 'DiseaseType_x', 'Date', 'DiseaseType_y', 'split', 'middle_first_date', 'late_first_date', 'time_bin', 'final_split', 'Selected'],\n",
       "    num_rows: 58414\n",
       "})"
      ]
     },
     "execution_count": 2,
     "metadata": {},
     "output_type": "execute_result"
    }
   ],
   "source": [
    "from recfldtkn.aidata_base.entry import EntryAIData_Builder\n",
    "from recfldtkn.case_base.casefnutils.casefn import Case_Fn\n",
    "\n",
    " \n",
    "CF_DataName = 'OhioT1DM-GluPred-CGM5MinEntry-10bfff5cd1e01faf'\n",
    "CohortName_list = ['OhioT1DM']\n",
    "\n",
    "######################## get the CF_DataName list\n",
    "CF_DataName_list = [f'{CF_DataName}/{i}' for i in CohortName_list]\n",
    "########################\n",
    "CF_DataName_list\n",
    "\n",
    "entry = EntryAIData_Builder(SPACE=SPACE)\n",
    "dataset = entry.merge_one_cf_dataset(CF_DataName_list)\n",
    "dataset"
   ]
  },
  {
   "cell_type": "code",
   "execution_count": null,
   "metadata": {},
   "outputs": [],
   "source": [
    "df = dataset.to_pandas()\n",
    "df"
   ]
  },
  {
   "cell_type": "code",
   "execution_count": 4,
   "metadata": {},
   "outputs": [
    {
     "name": "stdout",
     "output_type": "stream",
     "text": [
      "count\n",
      "1    58414\n",
      "Name: count, dtype: int64\n"
     ]
    },
    {
     "data": {
      "text/plain": [
       "[]"
      ]
     },
     "execution_count": 4,
     "metadata": {},
     "output_type": "execute_result"
    }
   ],
   "source": [
    "df['key'] = df['CGMValueBf24h--tid'].apply(lambda x: '-'.join([str(i) for i in x]))\n",
    "vc = df['key'].value_counts()\n",
    "print(vc.value_counts())\n",
    "\n",
    "vc = vc[vc > 1]\n",
    "\n",
    "dfx = df[df['key'].isin(vc.index.tolist())]\n",
    "\n",
    "dfx['PID'].value_counts().index.tolist()\n",
    "# TODO: describe the dataset so people can have a quick look"
   ]
  },
  {
   "cell_type": "code",
   "execution_count": 5,
   "metadata": {},
   "outputs": [],
   "source": [
    "data_config = dataset.info.config_name \n",
    "CF_to_CFvocab = data_config['CF_to_CFvocab']\n",
    "\n",
    "\n",
    "CFName = 'HM5MinStep'\n",
    "interval_delta = pd.Timedelta(minutes=5)\n",
    "idx2tkn = [pd.Timestamp('2022-01-01 00:00:00') + interval_delta * i for i in range(24 * 12)]\n",
    "idx2tkn = [f'{i.hour:02d}:{i.minute:02d}' for i in idx2tkn]\n",
    "tkn2idx = {tkn: idx for idx, tkn in enumerate(idx2tkn)}\n",
    "CF_to_CFvocab = data_config['CF_to_CFvocab']\n",
    "CF_to_CFvocab[CFName] = {'idx2tkn': idx2tkn, 'tkn2idx': tkn2idx}\n",
    "\n",
    "CFName = 'CGMValue'\n",
    "idx2tkn = [\"PAD\", \"UNKNOWN\", \"MASK\", '<start>', '<end>'] + [f'Other_{i}' for i in range(0, 5)] + [str(i) for i in range(10, 401)]\n",
    "tkn2idx = {tkn: idx for idx, tkn in enumerate(idx2tkn)}\n",
    "CF_to_CFvocab[CFName] = {'idx2tkn': idx2tkn, 'tkn2idx': tkn2idx}"
   ]
  },
  {
   "cell_type": "code",
   "execution_count": 6,
   "metadata": {},
   "outputs": [],
   "source": [
    "# CF_to_CFvocab['HM5MinStep']['tkn2idx']\n",
    "# CF_to_CFvocab['CGMValue']['tkn2idx']"
   ]
  },
  {
   "cell_type": "code",
   "execution_count": 7,
   "metadata": {},
   "outputs": [
    {
     "data": {
      "text/plain": [
       "train      44275\n",
       "test-id     9214\n",
       "valid       4925\n",
       "Name: count, dtype: int64"
      ]
     },
     "execution_count": 7,
     "metadata": {},
     "output_type": "execute_result"
    }
   ],
   "source": [
    "pd.Series(dataset['final_split']).value_counts()"
   ]
  },
  {
   "cell_type": "code",
   "execution_count": 8,
   "metadata": {},
   "outputs": [
    {
     "name": "stderr",
     "output_type": "stream",
     "text": [
      "[INFO:2025-07-08 16:04:04,073:(entry.py@131 recfldtkn.aidata_base.entry)]: Load EntryInput Method for code/pipeline/fn/fn_aidata/entryinput/1TknInStepWt5MinHM.py\n",
      "[INFO:2025-07-08 16:04:04,074:(entry.py@146 recfldtkn.aidata_base.entry)]: Load EntryOutput Method for code/pipeline/fn/fn_aidata/entryoutput/FutureSeq.py\n",
      "[INFO:2025-07-08 16:04:04,075:(entry.py@163 recfldtkn.aidata_base.entry)]: Load Split Method for code/pipeline/fn/fn_aidata/split/SplitFromColumns.py\n"
     ]
    }
   ],
   "source": [
    "OneEntryArgs = {\n",
    "    # ----------------- Input Part -----------------\n",
    "    'Split_Part': {\n",
    "        'SplitMethod': 'SplitFromColumns',\n",
    "        'Split_to_Selection': {\n",
    "            'train': {\n",
    "                'Rules': [\n",
    "                    ['final_split', '==', 'train'],\n",
    "                ],\n",
    "                'Op': 'and'\n",
    "            },\n",
    "            'valid': {\n",
    "                'Rules': [\n",
    "                    ['final_split', '==', 'valid'],\n",
    "                ],\n",
    "                'Op': 'and'\n",
    "            },\n",
    "            'test-id': {\n",
    "                'Rules': [\n",
    "                    ['final_split', '==', 'test-id'],\n",
    "                ],\n",
    "                'Op': 'and'\n",
    "            },\n",
    "        }\n",
    "    },\n",
    "\n",
    "    'Input_Part': {\n",
    "        'EntryInputMethod': '1TknInStepWt5MinHM',\n",
    "        'CF_list': [\n",
    "            'CGMValueBf24h',\n",
    "            'CGMValueAf2h',\n",
    "           #  'CGMValueAf2to8h',\n",
    "        ],\n",
    "        'BeforePeriods': ['Bf24h'],\n",
    "        'AfterPeriods': ['Af2h'],\n",
    "        'TimeIndex': True, \n",
    "        'InferenceMode': False, # True, # True, # False, # True, \n",
    "        'TargetField': 'CGMValue',\n",
    "        'TargetRange': [40, 400],\n",
    "        # 'HM': None, \n",
    "        'HM': {'start': -24, 'unit': 'h', 'interval': '5m'},\n",
    "    }, \n",
    "\n",
    "\n",
    "    'Output_Part': {\n",
    "        'EntryOutputMethod': 'FutureSeq',\n",
    "        'FutureStart': 289,\n",
    "        'FuturePeriod': 12 * 8, \n",
    "        'selected_columns': [\n",
    "            'PID', # 'ObsDT', \n",
    "            'input_ids', \n",
    "            'hm_ids', \n",
    "            'labels',\n",
    "            'final_split',\n",
    "        ],\n",
    "        'set_transform': False,\n",
    "        'num_proc': 4, \n",
    "    },\n",
    "}\n",
    "\n",
    "entry = EntryAIData_Builder(OneEntryArgs=OneEntryArgs, SPACE=SPACE)\n",
    "entry.CF_to_CFvocab = CF_to_CFvocab\n"
   ]
  },
  {
   "cell_type": "code",
   "execution_count": 9,
   "metadata": {},
   "outputs": [
    {
     "name": "stderr",
     "output_type": "stream",
     "text": [
      "[INFO:2025-07-08 16:04:04,502:(entry.py@195 recfldtkn.aidata_base.entry)]: entry_fn_AIInputData: <function entry_fn_AIInputData at 0x79a9fbf81da0>\n",
      "[INFO:2025-07-08 16:04:04,503:(entry.py@196 recfldtkn.aidata_base.entry)]: tfm_fn_AIInputData: <function tfm_fn_AIInputData at 0x79a9fbf82020>\n",
      "[INFO:2025-07-08 16:04:04,504:(entry.py@197 recfldtkn.aidata_base.entry)]: entry_fn_AITaskData: <function entry_fn_AITaskData at 0x79a9fbf82200>\n",
      "[INFO:2025-07-08 16:04:04,504:(entry.py@215 recfldtkn.aidata_base.entry)]: entry_fn_AITaskData is executed\n"
     ]
    },
    {
     "data": {
      "application/vnd.jupyter.widget-view+json": {
       "model_id": "2c7cfbc1d4bb4167bc30c4101f505f19",
       "version_major": 2,
       "version_minor": 0
      },
      "text/plain": [
       "Map (num_proc=4):   0%|          | 0/58414 [00:00<?, ? examples/s]"
      ]
     },
     "metadata": {},
     "output_type": "display_data"
    }
   ],
   "source": [
    "ds = dataset#.select(range(10))\n",
    "Data = {'ds_case': ds}\n",
    "Data = entry.setup_EntryFn_to_Data(Data, CF_to_CFvocab)"
   ]
  },
  {
   "cell_type": "code",
   "execution_count": 10,
   "metadata": {},
   "outputs": [
    {
     "data": {
      "text/plain": [
       "Dataset({\n",
       "    features: ['PID', 'ObsDT', 'CGMValueBf24h--tid', 'CGMValueAf2h--tid', 'CGMInfoBf24h-ModePercent', 'CGMInfoBf24h-ZeroPercent', 'CGMInfoBf24h-Geq400Percent', 'CGMInfoBf24h-Leq20Percent', 'CGMInfoBf24h-RecNum', 'CGMInfoAf2h-ModePercent', 'CGMInfoAf2h-ZeroPercent', 'CGMInfoAf2h-Geq400Percent', 'CGMInfoAf2h-Leq20Percent', 'CGMInfoAf2h-RecNum', 'CGMInfoAf2to8h-ModePercent', 'CGMInfoAf2to8h-ZeroPercent', 'CGMInfoAf2to8h-Geq400Percent', 'CGMInfoAf2to8h-Leq20Percent', 'CGMInfoAf2to8h-RecNum', 'YearOfBirth', 'Gender', 'MRSegmentID', 'DiseaseType_x', 'Date', 'DiseaseType_y', 'split', 'middle_first_date', 'late_first_date', 'time_bin', 'final_split', 'Selected'],\n",
       "    num_rows: 58414\n",
       "})"
      ]
     },
     "execution_count": 10,
     "metadata": {},
     "output_type": "execute_result"
    }
   ],
   "source": [
    "dataset"
   ]
  },
  {
   "cell_type": "code",
   "execution_count": 11,
   "metadata": {},
   "outputs": [
    {
     "data": {
      "text/plain": [
       "Dataset({\n",
       "    features: ['PID', 'final_split', 'input_ids', 'hm_ids', 'labels'],\n",
       "    num_rows: 58414\n",
       "})"
      ]
     },
     "execution_count": 11,
     "metadata": {},
     "output_type": "execute_result"
    }
   ],
   "source": [
    "from datasets import DatasetInfo\n",
    "\n",
    "DataName = 'OhioT1DM-Split_v0628'\n",
    "path = os.path.join(SPACE['DATA_HFDATA'], f'{DataName}')\n",
    "    \n",
    "\n",
    "ds_tfm = Data['ds_tfm']\n",
    "dataset_info = DatasetInfo.from_dict({'config_name': data_config})\n",
    "ds_tfm.info.update(dataset_info)\n",
    "\n",
    "ds_tfm"
   ]
  },
  {
   "cell_type": "code",
   "execution_count": 12,
   "metadata": {},
   "outputs": [
    {
     "name": "stderr",
     "output_type": "stream",
     "text": [
      "[INFO:2025-07-08 16:04:15,838:(base.py@520 recfldtkn.base)]: condition: ['final_split', '==', 'train']: to select: 44275 out of 58414\n",
      "[INFO:2025-07-08 16:04:15,856:(base.py@520 recfldtkn.base)]: condition: ['final_split', '==', 'valid']: to select: 4925 out of 58414\n",
      "[INFO:2025-07-08 16:04:15,862:(base.py@520 recfldtkn.base)]: condition: ['final_split', '==', 'test-id']: to select: 9214 out of 58414\n"
     ]
    },
    {
     "data": {
      "application/vnd.jupyter.widget-view+json": {
       "model_id": "c5fe0e178d4f48dcaba99de71ae6d151",
       "version_major": 2,
       "version_minor": 0
      },
      "text/plain": [
       "Saving the dataset (0/1 shards):   0%|          | 0/44275 [00:00<?, ? examples/s]"
      ]
     },
     "metadata": {},
     "output_type": "display_data"
    },
    {
     "data": {
      "application/vnd.jupyter.widget-view+json": {
       "model_id": "fa2614948ae44118adb1a4f64966522a",
       "version_major": 2,
       "version_minor": 0
      },
      "text/plain": [
       "Saving the dataset (0/1 shards):   0%|          | 0/4925 [00:00<?, ? examples/s]"
      ]
     },
     "metadata": {},
     "output_type": "display_data"
    },
    {
     "data": {
      "application/vnd.jupyter.widget-view+json": {
       "model_id": "68fd31f509534e80b42ec06f756b46ee",
       "version_major": 2,
       "version_minor": 0
      },
      "text/plain": [
       "Saving the dataset (0/1 shards):   0%|          | 0/9214 [00:00<?, ? examples/s]"
      ]
     },
     "metadata": {},
     "output_type": "display_data"
    }
   ],
   "source": [
    "\n",
    "dataset = ds_tfm\n",
    "split_to_dataset = entry.split_cf_dataset(dataset)\n",
    "split_to_dataset.save_to_disk(path)\n"
   ]
  },
  {
   "cell_type": "code",
   "execution_count": 13,
   "metadata": {},
   "outputs": [
    {
     "data": {
      "text/plain": [
       "DatasetDict({\n",
       "    train: Dataset({\n",
       "        features: ['PID', 'final_split', 'input_ids', 'hm_ids', 'labels'],\n",
       "        num_rows: 44275\n",
       "    })\n",
       "    valid: Dataset({\n",
       "        features: ['PID', 'final_split', 'input_ids', 'hm_ids', 'labels'],\n",
       "        num_rows: 4925\n",
       "    })\n",
       "    test-id: Dataset({\n",
       "        features: ['PID', 'final_split', 'input_ids', 'hm_ids', 'labels'],\n",
       "        num_rows: 9214\n",
       "    })\n",
       "})"
      ]
     },
     "execution_count": 13,
     "metadata": {},
     "output_type": "execute_result"
    }
   ],
   "source": [
    "split_to_dataset"
   ]
  },
  {
   "cell_type": "code",
   "execution_count": null,
   "metadata": {},
   "outputs": [],
   "source": []
  }
 ],
 "metadata": {
  "kernelspec": {
   "display_name": "torch",
   "language": "python",
   "name": "python3"
  },
  "language_info": {
   "codemirror_mode": {
    "name": "ipython",
    "version": 3
   },
   "file_extension": ".py",
   "mimetype": "text/x-python",
   "name": "python",
   "nbconvert_exporter": "python",
   "pygments_lexer": "ipython3",
   "version": "3.12.0"
  }
 },
 "nbformat": 4,
 "nbformat_minor": 2
}
