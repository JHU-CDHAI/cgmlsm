{
 "cells": [
  {
   "cell_type": "markdown",
   "metadata": {},
   "source": [
    "# Space Setup"
   ]
  },
  {
   "cell_type": "code",
   "execution_count": 1,
   "metadata": {},
   "outputs": [
    {
     "name": "stdout",
     "output_type": "stream",
     "text": [
      "/home/jluo41/CGMLSM-Project/\n",
      "code/pipeline\n"
     ]
    },
    {
     "name": "stderr",
     "output_type": "stream",
     "text": [
      "/home/jluo41/miniconda3/envs/nix/lib/python3.12/site-packages/tqdm/auto.py:21: TqdmWarning: IProgress not found. Please update jupyter and ipywidgets. See https://ipywidgets.readthedocs.io/en/stable/user_install.html\n",
      "  from .autonotebook import tqdm as notebook_tqdm\n"
     ]
    }
   ],
   "source": [
    "import sys\n",
    "import os\n",
    "import logging\n",
    "import pandas as pd\n",
    "import datasets\n",
    "from datasets import disable_caching; disable_caching()\n",
    "from pprint import pprint\n",
    "KEY = '2-OhioT1DM'\n",
    "WORKSPACE_PATH = os.getcwd().split(KEY)[0]\n",
    "print(WORKSPACE_PATH); os.chdir(WORKSPACE_PATH)\n",
    "logger = logging.getLogger(__name__)\n",
    "logging.basicConfig(level=logging.INFO, format='[%(levelname)s:%(asctime)s:(%(filename)s@%(lineno)d %(name)s)]: %(message)s')\n",
    "\n",
    "SPACE = {\n",
    "    'DATA_RAW': f'_Data/0-Data_Raw',\n",
    "    'DATA_RFT': f'_Data/1-Data_RFT',\n",
    "    'DATA_CASE': f'_Data/2-Data_CASE',\n",
    "    'DATA_AIDATA': f'_Data/3-Data_AIDATA',\n",
    "    'DATA_EXTERNAL': f'code/external',\n",
    "    'DATA_HFDATA': f'_Data/5-Data_HFData',\n",
    "    'CODE_FN': f'code/pipeline',\n",
    "    'MODEL_ROOT': f'./_Model',\n",
    "}\n",
    "assert os.path.exists(SPACE['CODE_FN']), f'{SPACE[\"CODE_FN\"]} not found'\n",
    "print(SPACE['CODE_FN'])\n",
    "sys.path.append(SPACE['CODE_FN'])\n",
    "\n",
    "# os.environ[\"CUDA_VISIBLE_DEVICES\"]=\"1\""
   ]
  },
  {
   "cell_type": "markdown",
   "metadata": {},
   "source": [
    "# AI Data"
   ]
  },
  {
   "cell_type": "code",
   "execution_count": 2,
   "metadata": {},
   "outputs": [
    {
     "name": "stdout",
     "output_type": "stream",
     "text": [
      "DatasetDict({\n",
      "    train: Dataset({\n",
      "        features: ['PID', 'final_split', 'input_ids', 'hm_ids', 'labels'],\n",
      "        num_rows: 44275\n",
      "    })\n",
      "    valid: Dataset({\n",
      "        features: ['PID', 'final_split', 'input_ids', 'hm_ids', 'labels'],\n",
      "        num_rows: 4925\n",
      "    })\n",
      "    test-id: Dataset({\n",
      "        features: ['PID', 'final_split', 'input_ids', 'hm_ids', 'labels'],\n",
      "        num_rows: 9214\n",
      "    })\n",
      "})\n"
     ]
    }
   ],
   "source": [
    "HFDataName = 'OhioT1DM-Split_v0628'\n",
    "path = os.path.join(SPACE['DATA_HFDATA'], HFDataName)\n",
    "split_to_dataset = datasets.load_from_disk(path)\n",
    "remove_unused_columns = True # if using the processed dataset, set to True. \n",
    "print(split_to_dataset)\n",
    "Name_to_Data = {i: {'ds_tfm': split_to_dataset[i]} for i in split_to_dataset}\n",
    "# Name_to_Data\n",
    "\n",
    "\n",
    "# DatasetDict({\n",
    "#     train: Dataset({\n",
    "#         features: ['PID', 'final_split', 'input_ids', 'hm_ids', 'labels'],\n",
    "#         num_rows: 37331\n",
    "#     })\n",
    "#     valid: Dataset({\n",
    "#         features: ['PID', 'final_split', 'input_ids', 'hm_ids', 'labels'],\n",
    "#         num_rows: 4153\n",
    "#     })\n",
    "#     test-id: Dataset({\n",
    "#         features: ['PID', 'final_split', 'input_ids', 'hm_ids', 'labels'],\n",
    "#         num_rows: 7456\n",
    "#     })\n",
    "# })"
   ]
  },
  {
   "cell_type": "code",
   "execution_count": 4,
   "metadata": {},
   "outputs": [
    {
     "name": "stdout",
     "output_type": "stream",
     "text": [
      "train\n",
      "(44275, 6)\n",
      "12\n",
      "valid\n",
      "(4925, 6)\n",
      "12\n",
      "test-id\n",
      "(9214, 6)\n",
      "11\n"
     ]
    }
   ],
   "source": [
    "import pandas as pd\n",
    "for Name, Data in Name_to_Data.items():\n",
    "    df = Data['ds_tfm'].to_pandas()\n",
    "    df['unique_id'] = Name + '-' + df.index.astype(str)\n",
    "    print(Name)\n",
    "    print(df.shape)\n",
    "    print(df['PID'].nunique())"
   ]
  },
  {
   "cell_type": "code",
   "execution_count": 5,
   "metadata": {},
   "outputs": [
    {
     "data": {
      "text/plain": [
       "58414"
      ]
     },
     "execution_count": 5,
     "metadata": {},
     "output_type": "execute_result"
    }
   ],
   "source": [
    "44275 + 4925 + 9214"
   ]
  },
  {
   "cell_type": "code",
   "execution_count": 5,
   "metadata": {},
   "outputs": [
    {
     "data": {
      "text/plain": [
       "0       True\n",
       "1       True\n",
       "2       True\n",
       "3       True\n",
       "4       True\n",
       "        ... \n",
       "9209    True\n",
       "9210    True\n",
       "9211    True\n",
       "9212    True\n",
       "9213    True\n",
       "Name: hm_obs, Length: 9214, dtype: bool"
      ]
     },
     "execution_count": 5,
     "metadata": {},
     "output_type": "execute_result"
    }
   ],
   "source": [
    "CURRENT_INDEX = 289\n",
    "\n",
    "ds = Name_to_Data['test-id']['ds_tfm']\n",
    "df = ds.to_pandas()\n",
    "df['hm_obs'] = df['hm_ids'].apply(lambda x: x[CURRENT_INDEX - 1])\n",
    "df['hm_obs'] % 1 == 0"
   ]
  },
  {
   "cell_type": "code",
   "execution_count": 7,
   "metadata": {},
   "outputs": [
    {
     "data": {
      "text/html": [
       "<div>\n",
       "<style scoped>\n",
       "    .dataframe tbody tr th:only-of-type {\n",
       "        vertical-align: middle;\n",
       "    }\n",
       "\n",
       "    .dataframe tbody tr th {\n",
       "        vertical-align: top;\n",
       "    }\n",
       "\n",
       "    .dataframe thead th {\n",
       "        text-align: right;\n",
       "    }\n",
       "</style>\n",
       "<table border=\"1\" class=\"dataframe\">\n",
       "  <thead>\n",
       "    <tr style=\"text-align: right;\">\n",
       "      <th></th>\n",
       "      <th>y</th>\n",
       "      <th>hm_ids</th>\n",
       "      <th>PID</th>\n",
       "      <th>ds</th>\n",
       "      <th>unique_id</th>\n",
       "      <th>stratum</th>\n",
       "      <th>abs_step</th>\n",
       "    </tr>\n",
       "  </thead>\n",
       "  <tbody>\n",
       "    <tr>\n",
       "      <th>0</th>\n",
       "      <td>177</td>\n",
       "      <td>28</td>\n",
       "      <td>110000000001</td>\n",
       "      <td>2020-01-01 02:20:00</td>\n",
       "      <td>test-id-0</td>\n",
       "      <td>T1D</td>\n",
       "      <td>0</td>\n",
       "    </tr>\n",
       "    <tr>\n",
       "      <th>1</th>\n",
       "      <td>176</td>\n",
       "      <td>29</td>\n",
       "      <td>110000000001</td>\n",
       "      <td>2020-01-01 02:25:00</td>\n",
       "      <td>test-id-0</td>\n",
       "      <td>T1D</td>\n",
       "      <td>1</td>\n",
       "    </tr>\n",
       "    <tr>\n",
       "      <th>2</th>\n",
       "      <td>174</td>\n",
       "      <td>30</td>\n",
       "      <td>110000000001</td>\n",
       "      <td>2020-01-01 02:30:00</td>\n",
       "      <td>test-id-0</td>\n",
       "      <td>T1D</td>\n",
       "      <td>2</td>\n",
       "    </tr>\n",
       "    <tr>\n",
       "      <th>3</th>\n",
       "      <td>170</td>\n",
       "      <td>31</td>\n",
       "      <td>110000000001</td>\n",
       "      <td>2020-01-01 02:35:00</td>\n",
       "      <td>test-id-0</td>\n",
       "      <td>T1D</td>\n",
       "      <td>3</td>\n",
       "    </tr>\n",
       "    <tr>\n",
       "      <th>4</th>\n",
       "      <td>166</td>\n",
       "      <td>32</td>\n",
       "      <td>110000000001</td>\n",
       "      <td>2020-01-01 02:40:00</td>\n",
       "      <td>test-id-0</td>\n",
       "      <td>T1D</td>\n",
       "      <td>4</td>\n",
       "    </tr>\n",
       "    <tr>\n",
       "      <th>...</th>\n",
       "      <td>...</td>\n",
       "      <td>...</td>\n",
       "      <td>...</td>\n",
       "      <td>...</td>\n",
       "      <td>...</td>\n",
       "      <td>...</td>\n",
       "      <td>...</td>\n",
       "    </tr>\n",
       "    <tr>\n",
       "      <th>2883977</th>\n",
       "      <td>92</td>\n",
       "      <td>118</td>\n",
       "      <td>110000000023</td>\n",
       "      <td>2020-01-02 09:50:00</td>\n",
       "      <td>test-id-9213</td>\n",
       "      <td>T1D</td>\n",
       "      <td>308</td>\n",
       "    </tr>\n",
       "    <tr>\n",
       "      <th>2883978</th>\n",
       "      <td>93</td>\n",
       "      <td>119</td>\n",
       "      <td>110000000023</td>\n",
       "      <td>2020-01-02 09:55:00</td>\n",
       "      <td>test-id-9213</td>\n",
       "      <td>T1D</td>\n",
       "      <td>309</td>\n",
       "    </tr>\n",
       "    <tr>\n",
       "      <th>2883979</th>\n",
       "      <td>90</td>\n",
       "      <td>120</td>\n",
       "      <td>110000000023</td>\n",
       "      <td>2020-01-02 10:00:00</td>\n",
       "      <td>test-id-9213</td>\n",
       "      <td>T1D</td>\n",
       "      <td>310</td>\n",
       "    </tr>\n",
       "    <tr>\n",
       "      <th>2883980</th>\n",
       "      <td>86</td>\n",
       "      <td>121</td>\n",
       "      <td>110000000023</td>\n",
       "      <td>2020-01-02 10:05:00</td>\n",
       "      <td>test-id-9213</td>\n",
       "      <td>T1D</td>\n",
       "      <td>311</td>\n",
       "    </tr>\n",
       "    <tr>\n",
       "      <th>2883981</th>\n",
       "      <td>87</td>\n",
       "      <td>122</td>\n",
       "      <td>110000000023</td>\n",
       "      <td>2020-01-02 10:10:00</td>\n",
       "      <td>test-id-9213</td>\n",
       "      <td>T1D</td>\n",
       "      <td>312</td>\n",
       "    </tr>\n",
       "  </tbody>\n",
       "</table>\n",
       "<p>2883982 rows × 7 columns</p>\n",
       "</div>"
      ],
      "text/plain": [
       "           y  hm_ids           PID                  ds     unique_id stratum  \\\n",
       "0        177      28  110000000001 2020-01-01 02:20:00     test-id-0     T1D   \n",
       "1        176      29  110000000001 2020-01-01 02:25:00     test-id-0     T1D   \n",
       "2        174      30  110000000001 2020-01-01 02:30:00     test-id-0     T1D   \n",
       "3        170      31  110000000001 2020-01-01 02:35:00     test-id-0     T1D   \n",
       "4        166      32  110000000001 2020-01-01 02:40:00     test-id-0     T1D   \n",
       "...      ...     ...           ...                 ...           ...     ...   \n",
       "2883977   92     118  110000000023 2020-01-02 09:50:00  test-id-9213     T1D   \n",
       "2883978   93     119  110000000023 2020-01-02 09:55:00  test-id-9213     T1D   \n",
       "2883979   90     120  110000000023 2020-01-02 10:00:00  test-id-9213     T1D   \n",
       "2883980   86     121  110000000023 2020-01-02 10:05:00  test-id-9213     T1D   \n",
       "2883981   87     122  110000000023 2020-01-02 10:10:00  test-id-9213     T1D   \n",
       "\n",
       "         abs_step  \n",
       "0               0  \n",
       "1               1  \n",
       "2               2  \n",
       "3               3  \n",
       "4               4  \n",
       "...           ...  \n",
       "2883977       308  \n",
       "2883978       309  \n",
       "2883979       310  \n",
       "2883980       311  \n",
       "2883981       312  \n",
       "\n",
       "[2883982 rows x 7 columns]"
      ]
     },
     "execution_count": 7,
     "metadata": {},
     "output_type": "execute_result"
    }
   ],
   "source": [
    "\n",
    "def convert_hfds_to_nixtladf(ds, name, sliding_windows = 12):\n",
    "    df = ds.to_pandas()\n",
    "    df['unique_id'] = name + '-' + df.index.astype(str)\n",
    "\n",
    "    df['hm_obs'] = df['hm_ids'].apply(lambda x: x[CURRENT_INDEX - 1])\n",
    "    index = df['hm_obs'] % sliding_windows == 0\n",
    "    df = df[index].reset_index(drop=True)\n",
    "\n",
    "    \n",
    "    li = []\n",
    "    for idx, row in df.iterrows():\n",
    "        d = {}\n",
    "        cgm = list(row['input_ids']) + list(row['labels'])\n",
    "        hm_ids = list(row['hm_ids'])\n",
    "        assert len(cgm) == len(hm_ids)\n",
    "\n",
    "        d['y'] = cgm \n",
    "        d['hm_ids'] = hm_ids \n",
    "\n",
    "        date = pd.to_datetime('2020-01-01')\n",
    "        start_date = date + pd.Timedelta(minutes=5 * hm_ids[0])\n",
    "        ds = [start_date + pd.Timedelta(minutes=5 * i) for i in range(len(cgm))]\n",
    "\n",
    "\n",
    "        # ds = [date + pd.Timedelta(minutes=5 * i) for i in hm_ids]\n",
    "        d['PID'] = len(cgm) * [row['PID']]\n",
    "        d['ds'] = ds\n",
    "        d['unique_id'] = len(cgm) * [row['unique_id']]\n",
    "        d['stratum'] = len(cgm) * ['T1D']\n",
    "        d['abs_step'] = range(0, len(cgm))\n",
    "        df_row = pd.DataFrame(d) \n",
    "        li.append(df_row)\n",
    "\n",
    "    df_nixtla = pd.concat(li).reset_index(drop = True)\n",
    "    return df_nixtla \n",
    "\n",
    "\n",
    "Name = 'test-id'\n",
    "ds = Name_to_Data[Name]['ds_tfm']\n",
    "sliding_windows = 1\n",
    "df = convert_hfds_to_nixtladf(ds, Name, sliding_windows = sliding_windows)\n",
    "df"
   ]
  },
  {
   "cell_type": "code",
   "execution_count": 8,
   "metadata": {},
   "outputs": [
    {
     "data": {
      "text/plain": [
       "PID           unique_id   \n",
       "110000000001  test-id-0       313\n",
       "              test-id-1       313\n",
       "              test-id-10      313\n",
       "              test-id-100     313\n",
       "              test-id-101     313\n",
       "                             ... \n",
       "110000000023  test-id-9209    313\n",
       "              test-id-9210    313\n",
       "              test-id-9211    313\n",
       "              test-id-9212    313\n",
       "              test-id-9213    313\n",
       "Name: count, Length: 9214, dtype: int64"
      ]
     },
     "execution_count": 8,
     "metadata": {},
     "output_type": "execute_result"
    }
   ],
   "source": [
    "df[['PID', 'unique_id']].value_counts().sort_index()"
   ]
  },
  {
   "cell_type": "code",
   "execution_count": 9,
   "metadata": {},
   "outputs": [
    {
     "name": "stdout",
     "output_type": "stream",
     "text": [
      "train (44275, 5)\n",
      "valid (4925, 5)\n",
      "test-id (9214, 5)\n"
     ]
    }
   ],
   "source": [
    "Name_to_nixtlaDF = {}\n",
    "\n",
    "for Name in Name_to_Data:\n",
    "    ds = Name_to_Data[Name]['ds_tfm']\n",
    "    print(Name, ds.shape)\n",
    "\n",
    "    if Name == 'train':\n",
    "        sliding_windows = 3\n",
    "    else:\n",
    "        sliding_windows = 1\n",
    "\n",
    "    df = convert_hfds_to_nixtladf(ds, Name, sliding_windows = sliding_windows)\n",
    "    Name_to_nixtlaDF[Name] = df \n",
    "\n",
    "\n",
    "NixDataName = 'OhioT1DM-Nixtla-v0628' # new\n",
    "path = os.path.join(SPACE['DATA_HFDATA'], NixDataName)\n"
   ]
  },
  {
   "cell_type": "code",
   "execution_count": 10,
   "metadata": {},
   "outputs": [
    {
     "name": "stdout",
     "output_type": "stream",
     "text": [
      "train (4620819, 7)\n",
      "valid (1541525, 7)\n",
      "test-id (2883982, 7)\n"
     ]
    }
   ],
   "source": [
    "if not os.path.exists(path):\n",
    "    os.makedirs(path)\n",
    "\n",
    "for Name in Name_to_nixtlaDF:\n",
    "    df = Name_to_nixtlaDF[Name]\n",
    "    print(Name, df.shape)\n",
    "    df.to_parquet(os.path.join(path, f'{Name}.parquet'), index=False)"
   ]
  },
  {
   "cell_type": "code",
   "execution_count": null,
   "metadata": {},
   "outputs": [],
   "source": [
    "# import pandas as pd\n",
    "# date = pd.to_datetime('2020-01-01') + pd.Timedelta(minutes=5 * (288 + 12))\n",
    "#         # ds = [date + pd.Timedelta(minutes=5 * i) for i in hm_ids]\n",
    "# date "
   ]
  },
  {
   "cell_type": "code",
   "execution_count": null,
   "metadata": {},
   "outputs": [],
   "source": []
  }
 ],
 "metadata": {
  "kernelspec": {
   "display_name": "nix",
   "language": "python",
   "name": "python3"
  },
  "language_info": {
   "codemirror_mode": {
    "name": "ipython",
    "version": 3
   },
   "file_extension": ".py",
   "mimetype": "text/x-python",
   "name": "python",
   "nbconvert_exporter": "python",
   "pygments_lexer": "ipython3",
   "version": "3.12.11"
  }
 },
 "nbformat": 4,
 "nbformat_minor": 2
}
