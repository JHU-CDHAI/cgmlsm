{
 "cells": [
  {
   "cell_type": "code",
   "execution_count": 1,
   "id": "7e49aa67",
   "metadata": {},
   "outputs": [
    {
     "name": "stderr",
     "output_type": "stream",
     "text": [
      "/Users/floydluo/opt/miniconda3/envs/torch/lib/python3.11/site-packages/tqdm/auto.py:21: TqdmWarning: IProgress not found. Please update jupyter and ipywidgets. See https://ipywidgets.readthedocs.io/en/stable/user_install.html\n",
      "  from .autonotebook import tqdm as notebook_tqdm\n"
     ]
    },
    {
     "name": "stdout",
     "output_type": "stream",
     "text": [
      "/Users/floydluo/Desktop/cgmlsm-dev/\n",
      "code/pipeline\n"
     ]
    }
   ],
   "source": [
    "import sys\n",
    "import os\n",
    "import logging\n",
    "import pandas as pd\n",
    "import datasets\n",
    "from pprint import pprint\n",
    "KEY = '1-CGMLSM'\n",
    "WORKSPACE_PATH = os.getcwd().split(KEY)[0]\n",
    "print(WORKSPACE_PATH); os.chdir(WORKSPACE_PATH)\n",
    "logger = logging.getLogger(__name__)\n",
    "logging.basicConfig(level=logging.INFO, format='[%(levelname)s:%(asctime)s:(%(filename)s@%(lineno)d %(name)s)]: %(message)s')\n",
    "\n",
    "SPACE = {\n",
    "    'DATA_RAW': f'_Data/0-Data_Raw',\n",
    "    'DATA_RFT': f'_Data/1-Data_RFT',\n",
    "    'DATA_CASE': f'_Data/2-Data_CASE',\n",
    "    'DATA_CFDATA': f'_Data/3-Data_CFDATA',\n",
    "    'DATA_SPLIT': f'_Data/4-Data_Split',\n",
    "    'DATA_HFDATA': f'_Data/5-Data_HFData',\n",
    "    'DATA_EXTERNAL': f'code/external',\n",
    "    'CODE_FN': f'code/pipeline',\n",
    "    'MODEL_ROOT': f'./_Model',\n",
    "}\n",
    "assert os.path.exists(SPACE['CODE_FN']), f'{SPACE[\"CODE_FN\"]} not found'\n",
    "print(SPACE['CODE_FN'])\n",
    "sys.path.append(SPACE['CODE_FN'])"
   ]
  },
  {
   "cell_type": "code",
   "execution_count": 2,
   "id": "4052334b",
   "metadata": {},
   "outputs": [],
   "source": [
    "from nn.cgmlsm.configuration_cgmlsm import CgmLsmConfig\n",
    "from nn.cgmlsm.modeling_cgmlsm import CgmLsmLMHeadModel"
   ]
  },
  {
   "cell_type": "code",
   "execution_count": 4,
   "id": "49674c83",
   "metadata": {},
   "outputs": [],
   "source": [
    "# HFDataName = 'CgmLsm_WellDoc_ds0p10'\n",
    "# path = os.path.join(SPACE['DATA_HFDATA'], HFDataName)\n",
    "# split_to_dataset = datasets.load_from_disk(path)\n",
    "# remove_unused_columns = True # if using the processed dataset, set to True. \n",
    "# print(split_to_dataset)\n",
    "# Name_to_Data = {i: {'ds_tfm': split_to_dataset[i]} for i in split_to_dataset}\n",
    "# # exit()"
   ]
  },
  {
   "cell_type": "code",
   "execution_count": 1,
   "id": "c9f4ca37",
   "metadata": {},
   "outputs": [
    {
     "name": "stderr",
     "output_type": "stream",
     "text": [
      "/home/jluo41/miniconda3/envs/nix/lib/python3.12/site-packages/tqdm/auto.py:21: TqdmWarning: IProgress not found. Please update jupyter and ipywidgets. See https://ipywidgets.readthedocs.io/en/stable/user_install.html\n",
      "  from .autonotebook import tqdm as notebook_tqdm\n"
     ]
    }
   ],
   "source": [
    "import sys\n",
    "import os\n",
    "import logging\n",
    "import pandas as pd\n",
    "import datasets\n",
    "import numpy as np\n",
    "import torch\n",
    "from sklearn.metrics import accuracy_score, precision_recall_fscore_support\n",
    "from transformers import (\n",
    "    RobertaConfig,\n",
    "    RobertaForSequenceClassification,\n",
    "    PreTrainedTokenizerFast,\n",
    "    TrainingArguments,\n",
    "    Trainer,\n",
    "    DataCollatorWithPadding\n",
    ")\n",
    "from tokenizers import Tokenizer\n",
    "from tokenizers.models import WordLevel\n",
    "from tokenizers.pre_tokenizers import Whitespace\n",
    "from pprint import pprint\n",
    "from transformers import (\n",
    "    Trainer,\n",
    "    TrainingArguments,\n",
    "    default_data_collator,\n",
    "    set_seed,\n",
    ")\n",
    "# Calculate AUC (Area Under the ROC Curve)\n",
    "# For multi-class, we use one-vs-rest approach\n",
    "from sklearn.preprocessing import label_binarize\n",
    "from sklearn.metrics import roc_auc_score"
   ]
  },
  {
   "cell_type": "code",
   "execution_count": 5,
   "id": "2827e108",
   "metadata": {},
   "outputs": [],
   "source": [
    "# ---------------------- CF Vocab Setup ----------------------\n",
    "CF_to_CFvocab = {} # data_config['CF_to_CFvocab']\n",
    "\n",
    "CFName = 'HM5MinStep'\n",
    "interval_delta = pd.Timedelta(minutes=5)\n",
    "idx2tkn = [pd.Timestamp('2022-01-01 00:00:00') + interval_delta * i for i in range(24 * 12)]\n",
    "idx2tkn = [f'{i.hour:02d}:{i.minute:02d}' for i in idx2tkn]\n",
    "tkn2idx = {tkn: idx for idx, tkn in enumerate(idx2tkn)}\n",
    "CF_to_CFvocab[CFName] = {'idx2tkn': idx2tkn, 'tkn2idx': tkn2idx}\n",
    "\n",
    "CFName = 'CGMValue'\n",
    "idx2tkn = [\"PAD\", \"UNKNOWN\", \"MASK\"] + [f'Other_{i}' for i in range(0, 7)] + [str(i) for i in range(10, 401)]\n",
    "tkn2idx = {tkn: idx for idx, tkn in enumerate(idx2tkn)}\n",
    "CF_to_CFvocab[CFName] = {'idx2tkn': idx2tkn, 'tkn2idx': tkn2idx}\n",
    "\n",
    "# ---------------------- Tokenizer Setup ----------------------\n",
    "idx2tkn = CF_to_CFvocab['CGMValue']['idx2tkn']\n",
    "vocab_dict = {token: idx for idx, token in enumerate(idx2tkn)}\n",
    "wordlevel = WordLevel(vocab=vocab_dict, unk_token=\"UNKNOWN\")\n",
    "tokenizer_backend = Tokenizer(wordlevel)\n",
    "tokenizer_backend.pre_tokenizer = Whitespace()\n",
    "tokenizer = PreTrainedTokenizerFast(\n",
    "    tokenizer_object=tokenizer_backend,\n",
    "    unk_token=\"UNKNOWN\",\n",
    "    pad_token=\"PAD\",\n",
    "    mask_token=\"MASK\"\n",
    ")"
   ]
  },
  {
   "cell_type": "code",
   "execution_count": 6,
   "id": "e5e784f4",
   "metadata": {},
   "outputs": [
    {
     "data": {
      "text/plain": [
       "401"
      ]
     },
     "execution_count": 6,
     "metadata": {},
     "output_type": "execute_result"
    }
   ],
   "source": [
    "len(tokenizer)"
   ]
  },
  {
   "cell_type": "code",
   "execution_count": 7,
   "id": "919a8fe9",
   "metadata": {},
   "outputs": [
    {
     "data": {
      "text/plain": [
       "CgmLsmLMHeadModel(\n",
       "  (transformer): CgmLsmModel(\n",
       "    (wte): Embedding(401, 768)\n",
       "    (wpe): Embedding(1024, 768)\n",
       "    (drop): Dropout(p=0.1, inplace=False)\n",
       "    (h): ModuleList(\n",
       "      (0-11): 12 x AttnBlock(\n",
       "        (ln_1): LayerNorm((768,), eps=1e-05, elementwise_affine=True)\n",
       "        (attn): Attention(\n",
       "          (c_attn): Conv1D(nf=2304, nx=768)\n",
       "          (c_proj): Conv1D(nf=768, nx=768)\n",
       "          (attn_dropout): Dropout(p=0.1, inplace=False)\n",
       "          (resid_dropout): Dropout(p=0.1, inplace=False)\n",
       "        )\n",
       "        (ln_2): LayerNorm((768,), eps=1e-05, elementwise_affine=True)\n",
       "        (mlp): MLP(\n",
       "          (c_fc): Conv1D(nf=3072, nx=768)\n",
       "          (c_proj): Conv1D(nf=768, nx=3072)\n",
       "          (act): NewGELUActivation()\n",
       "          (dropout): Dropout(p=0.1, inplace=False)\n",
       "        )\n",
       "      )\n",
       "    )\n",
       "    (ln_f): LayerNorm((768,), eps=1e-05, elementwise_affine=True)\n",
       "  )\n",
       "  (lm_head): Linear(in_features=768, out_features=401, bias=False)\n",
       ")"
      ]
     },
     "execution_count": 7,
     "metadata": {},
     "output_type": "execute_result"
    }
   ],
   "source": [
    "hm_idx2tkn = CF_to_CFvocab['HM5MinStep']['idx2tkn']\n",
    "\n",
    "model_name = 'cgmlsm_pretrain_welldoc_v2024'\n",
    "config = CgmLsmConfig(\n",
    "    vocab_size=len(tokenizer),\n",
    ")\n",
    "model = CgmLsmLMHeadModel(config)\n",
    "model"
   ]
  },
  {
   "cell_type": "code",
   "execution_count": 8,
   "id": "e093191d",
   "metadata": {},
   "outputs": [],
   "source": [
    "\n",
    "def compute_metrics(pred):\n",
    "    # Convert logits and labels to torch.Tensor\n",
    "    logits = torch.tensor(pred.predictions)\n",
    "    labels = torch.tensor(pred.label_ids)\n",
    "\n",
    "    # Shift for next token prediction\n",
    "    shift_logits = logits[..., :-1, :]\n",
    "    shift_labels = labels[..., 1:]\n",
    "\n",
    "    # Flatten the tensors\n",
    "    shift_logits = shift_logits.reshape(-1, shift_logits.size(-1))\n",
    "    shift_labels = shift_labels.reshape(-1)\n",
    "\n",
    "    # Compute loss, ignoring padding tokens (-100)\n",
    "    loss_fct = torch.nn.CrossEntropyLoss(ignore_index=-100)\n",
    "    next_token_loss = loss_fct(shift_logits, shift_labels)\n",
    "\n",
    "    # Compute accuracy\n",
    "    predictions = torch.argmax(shift_logits, dim=-1)\n",
    "    mask = shift_labels != -100\n",
    "    correct = (predictions == shift_labels) & mask\n",
    "    accuracy = correct.sum().float() / mask.sum().float()\n",
    "\n",
    "    # Compute perplexity\n",
    "    perplexity = torch.exp(next_token_loss)\n",
    "\n",
    "    return {\n",
    "        'next_token_loss': next_token_loss.item(),\n",
    "        'perplexity': perplexity.item(),\n",
    "        'accuracy': accuracy.item()\n",
    "    }"
   ]
  },
  {
   "cell_type": "code",
   "execution_count": 9,
   "id": "edb158af",
   "metadata": {},
   "outputs": [],
   "source": [
    "# ---------------------- Training Arguments ----------------------\n",
    "training_args = TrainingArguments(\n",
    "    output_dir=os.path.join(SPACE['MODEL_ROOT'], model_name),\n",
    "\n",
    "    do_train=True,\n",
    "    do_eval=True,\n",
    "\n",
    "    num_train_epochs=2,  # ← First run with 1 epoch\n",
    "    per_device_train_batch_size=128,\n",
    "    per_device_eval_batch_size=64,\n",
    "    gradient_accumulation_steps=2,  # effective batch size = 64*4 = 256\n",
    "\n",
    "    learning_rate=5e-5,\n",
    "    weight_decay=0.01,\n",
    "    warmup_steps=1000,\n",
    "    max_grad_norm=1.0,\n",
    "\n",
    "    logging_steps=1,\n",
    "\n",
    "    # Evaluation settings\n",
    "    eval_strategy=\"steps\",\n",
    "    eval_steps=200, # 1, # 200\n",
    "\n",
    "    save_strategy=\"steps\", # one epoch\n",
    "    save_steps=0.1,\n",
    "    save_total_limit=10,\n",
    "\n",
    "    # No best model logic for now\n",
    "    # load_best_model_at_end=True,\n",
    "    # metric_for_best_model=\"perplexity\",\n",
    "    # greater_is_better=False,\n",
    "\n",
    "    report_to=\"wandb\",\n",
    "    prediction_loss_only=False,\n",
    "    remove_unused_columns=False,\n",
    "    dataloader_drop_last=True,\n",
    "\n",
    "    dataloader_num_workers=8,  # ← add this to use your CPUs\n",
    ")\n"
   ]
  },
  {
   "cell_type": "code",
   "execution_count": 10,
   "id": "216d76aa",
   "metadata": {},
   "outputs": [
    {
     "name": "stdout",
     "output_type": "stream",
     "text": [
      "['In-Train', 'In-Valid_T1D', 'In-Valid_T2D', 'In-Test_T1D', 'In-Test_T2D', 'Out_T1D', 'Out_T2D']\n"
     ]
    }
   ],
   "source": [
    "print([i for i in Name_to_Data.keys()])"
   ]
  },
  {
   "cell_type": "code",
   "execution_count": null,
   "id": "da577c71",
   "metadata": {},
   "outputs": [],
   "source": [
    "eval_set_size = 1042\n",
    "random_seed = 42\n",
    "\n",
    "ds_tfm_train  = Name_to_Data['In-Train']['ds_tfm']\n",
    "ds_tfm_valid_t1d  = Name_to_Data['In-Valid_T1D']['ds_tfm'].shuffle(seed=random_seed).select(range(eval_set_size))\n",
    "ds_tfm_valid_t2d = Name_to_Data['In-Valid_T2D']['ds_tfm'].shuffle(seed=random_seed).select(range(eval_set_size))\n",
    "\n",
    "\n",
    "ds_tfm_testid_t1d  = Name_to_Data['In-Test_T1D']['ds_tfm'].shuffle(seed=random_seed).select(range(eval_set_size))\n",
    "ds_tfm_testid_t2d = Name_to_Data['In-Test_T2D']['ds_tfm'].shuffle(seed=random_seed).select(range(eval_set_size))\n",
    "\n",
    "\n",
    "ds_tfm_testod_t1d = Name_to_Data['Out_T1D']['ds_tfm'].shuffle(seed=random_seed).select(range(eval_set_size))\n",
    "ds_tfm_testod_t2d = Name_to_Data['Out_T2D']['ds_tfm'].shuffle(seed=random_seed).select(range(eval_set_size))\n",
    "\n",
    "\n",
    "\n",
    "eval_dict = {\n",
    "    'valid_t1d': ds_tfm_valid_t1d,\n",
    "    'valid_t2d': ds_tfm_valid_t2d,\n",
    "    'testid_t1d': ds_tfm_testid_t1d,\n",
    "    'testid_t2d': ds_tfm_testid_t2d,\n",
    "    'testod_t1d': ds_tfm_testod_t1d,\n",
    "    'testod_t2d': ds_tfm_testod_t2d,\n",
    "}\n",
    "\n",
    "print(ds_tfm_train)\n",
    "print(eval_dict)"
   ]
  },
  {
   "cell_type": "code",
   "execution_count": null,
   "id": "2c350059",
   "metadata": {},
   "outputs": [],
   "source": []
  }
 ],
 "metadata": {
  "kernelspec": {
   "display_name": "nix",
   "language": "python",
   "name": "python3"
  },
  "language_info": {
   "codemirror_mode": {
    "name": "ipython",
    "version": 3
   },
   "file_extension": ".py",
   "mimetype": "text/x-python",
   "name": "python",
   "nbconvert_exporter": "python",
   "pygments_lexer": "ipython3",
   "version": "3.12.11"
  }
 },
 "nbformat": 4,
 "nbformat_minor": 5
}
